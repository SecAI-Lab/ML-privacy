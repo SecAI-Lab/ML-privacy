{
 "cells": [
  {
   "cell_type": "code",
   "execution_count": null,
   "metadata": {},
   "outputs": [],
   "source": [
    "# !pip install tensorflow\n",
    "# !pip install tensorflow-hub-0.12.0\n",
    "import numpy as np\n",
    "import tensorflow as tf\n",
    "\n",
    "import tensorflow_hub as hub\n",
    "import tensorflow_datasets as tfds\n",
    "\n",
    "!pip show tensorflow-privacy\n",
    "import tensorflow_privacy.privacy.privacy_tests.membership_inference_attack.membership_inference_attack as mia\n",
    "from tensorflow_privacy.privacy.membership_inference_attack.data_structures import AttackInputData\n",
    "from tensorflow_privacy.privacy.membership_inference_attack.data_structures import SlicingSpec\n",
    "from tensorflow_privacy.privacy.membership_inference_attack.data_structures import AttackType"
   ]
  },
  {
   "cell_type": "code",
   "execution_count": 2,
   "metadata": {},
   "outputs": [
    {
     "name": "stdout",
     "output_type": "stream",
     "text": [
      "2.9.1\n",
      "\u001b[1mDownloading and preparing dataset Unknown size (download: Unknown size, generated: Unknown size, total: Unknown size) to ~\\tensorflow_datasets\\imdb_reviews\\plain_text\\1.0.0...\u001b[0m\n"
     ]
    },
    {
     "name": "stderr",
     "output_type": "stream",
     "text": [
      "Dl Size...: 100%|██████████| 80/80 [01:27<00:00,  1.09s/ MiB]rl]\n",
      "Dl Completed...: 100%|██████████| 1/1 [01:27<00:00, 87.43s/ url]\n",
      "                                                                        \r"
     ]
    },
    {
     "name": "stdout",
     "output_type": "stream",
     "text": [
      "\u001b[1mDataset imdb_reviews downloaded and prepared to ~\\tensorflow_datasets\\imdb_reviews\\plain_text\\1.0.0. Subsequent calls will reuse this data.\u001b[0m\n"
     ]
    }
   ],
   "source": [
    "print(tf.__version__)\n",
    "train_data, test_data = tfds.load(name=\"imdb_reviews\", split=[\"train\", \"test\"], \n",
    "                                  batch_size=-1, as_supervised=True)\n",
    "\n",
    "train_examples, train_labels = tfds.as_numpy(train_data)\n",
    "test_examples, test_labels = tfds.as_numpy(test_data)"
   ]
  },
  {
   "cell_type": "code",
   "execution_count": null,
   "metadata": {},
   "outputs": [],
   "source": [
    "print(\"Training entries: {}, test entries: {}\".format(len(train_examples), len(test_examples)))\n",
    "print(train_examples[:10])\n",
    "print(train_labels[:10])"
   ]
  },
  {
   "cell_type": "code",
   "execution_count": null,
   "metadata": {},
   "outputs": [],
   "source": [
    "model = \"https://tfhub.dev/google/nnlm-en-dim50/2\"\n",
    "hub_layer = hub.KerasLayer(model, input_shape=[], dtype=tf.string, trainable=True)\n",
    "hub_layer(train_examples[:3])"
   ]
  },
  {
   "cell_type": "code",
   "execution_count": 5,
   "metadata": {},
   "outputs": [
    {
     "name": "stdout",
     "output_type": "stream",
     "text": [
      "Model: \"sequential\"\n",
      "_________________________________________________________________\n",
      " Layer (type)                Output Shape              Param #   \n",
      "=================================================================\n",
      " keras_layer (KerasLayer)    (None, 50)                48190600  \n",
      "                                                                 \n",
      " dense (Dense)               (None, 16)                816       \n",
      "                                                                 \n",
      " dense_1 (Dense)             (None, 1)                 17        \n",
      "                                                                 \n",
      "=================================================================\n",
      "Total params: 48,191,433\n",
      "Trainable params: 48,191,433\n",
      "Non-trainable params: 0\n",
      "_________________________________________________________________\n"
     ]
    }
   ],
   "source": [
    "model = tf.keras.Sequential()\n",
    "model.add(hub_layer)\n",
    "model.add(tf.keras.layers.Dense(16, activation='relu'))\n",
    "model.add(tf.keras.layers.Dense(1))\n",
    "\n",
    "model.summary()"
   ]
  },
  {
   "cell_type": "code",
   "execution_count": 6,
   "metadata": {},
   "outputs": [],
   "source": [
    "model.compile(optimizer='adam',\n",
    "              loss=tf.losses.BinaryCrossentropy(from_logits=True),\n",
    "              metrics=[tf.metrics.BinaryAccuracy(threshold=0.0, name='accuracy')])"
   ]
  },
  {
   "cell_type": "code",
   "execution_count": 7,
   "metadata": {},
   "outputs": [],
   "source": [
    "x_val = train_examples[:10000]\n",
    "partial_x_train = train_examples[10000:]\n",
    "\n",
    "y_val = train_labels[:10000]\n",
    "partial_y_train = train_labels[10000:]"
   ]
  },
  {
   "cell_type": "code",
   "execution_count": null,
   "metadata": {},
   "outputs": [],
   "source": [
    "from tensorflow_privacy.privacy.privacy_tests.membership_inference_attack.data_structures import AttackResultsCollection\n",
    "from tensorflow_privacy.privacy.privacy_tests.membership_inference_attack.data_structures import PrivacyMetric, AttackInputData\n",
    "from tensorflow_privacy.privacy.privacy_tests.membership_inference_attack.data_structures import PrivacyReportMetadata\n",
    "from tensorflow_privacy.privacy.privacy_tests.membership_inference_attack import privacy_report"
   ]
  },
  {
   "cell_type": "code",
   "execution_count": null,
   "metadata": {},
   "outputs": [],
   "source": [
    "history = model.fit(partial_x_train,\n",
    "                    partial_y_train,\n",
    "                    epochs=10,\n",
    "                    batch_size=512,\n",
    "                    validation_data=(x_val, y_val),\n",
    "                    verbose=1)"
   ]
  },
  {
   "cell_type": "code",
   "execution_count": 11,
   "metadata": {},
   "outputs": [
    {
     "name": "stdout",
     "output_type": "stream",
     "text": [
      "Predict on train...\n",
      "469/469 [==============================] - 19s 36ms/step\n",
      "Predict on test...\n",
      "313/313 [==============================] - 11s 37ms/step\n",
      "Apply softmax to get probabilities from logits...\n",
      "Compute losses...\n"
     ]
    }
   ],
   "source": [
    "print('Predict on train...')\n",
    "logits_train = model.predict(partial_x_train)\n",
    "print('Predict on test...')\n",
    "logits_test = model.predict(x_val)\n",
    "\n",
    "print('Apply softmax to get probabilities from logits...')\n",
    "prob_train = tf.nn.softmax(logits_train, axis=-1)\n",
    "prob_test = tf.nn.softmax(logits_test)\n",
    "\n",
    "print('Compute losses...')\n",
    "cce = tf.keras.backend.categorical_crossentropy\n",
    "constant = tf.keras.backend.constant\n"
   ]
  },
  {
   "cell_type": "code",
   "execution_count": 12,
   "metadata": {},
   "outputs": [],
   "source": [
    "y_train_onehot = partial_y_train.reshape(partial_y_train.shape[0], 1)\n",
    "y_test_onehot = y_val.reshape(y_val.shape[0], 1)\n",
    "\n",
    "loss_train = cce(constant(y_train_onehot), constant(prob_train), from_logits=False).numpy()\n",
    "loss_test = cce(constant(y_test_onehot), constant(prob_test), from_logits=False).numpy()"
   ]
  },
  {
   "cell_type": "code",
   "execution_count": null,
   "metadata": {},
   "outputs": [],
   "source": [
    "attack_input = AttackInputData(\n",
    "  logits_train = logits_train,\n",
    "  logits_test = logits_test,\n",
    "  loss_train = loss_train,\n",
    "  loss_test = loss_test,\n",
    "  labels_train = partial_y_train,\n",
    "  labels_test = y_val\n",
    ")\n",
    "\n",
    "slicing_spec = SlicingSpec(\n",
    "    entire_dataset = True,\n",
    "    by_class = True,\n",
    "    by_percentiles = False,\n",
    "    by_classification_correctness = True)\n",
    "\n",
    "attack_types = [    \n",
    "    AttackType.K_NEAREST_NEIGHBORS,    \n",
    "    AttackType.LOGISTIC_REGRESSION\n",
    "]"
   ]
  },
  {
   "cell_type": "code",
   "execution_count": 14,
   "metadata": {},
   "outputs": [],
   "source": [
    "class PrivacyMetrics(tf.keras.callbacks.Callback):\n",
    "  def __init__(self, epochs_per_report, model_name):\n",
    "    self.epochs_per_report = epochs_per_report\n",
    "    self.model_name = model_name\n",
    "    self.attack_results = []\n",
    "\n",
    "  def on_epoch_end(self, epoch, logs=None):\n",
    "    epoch = epoch+1\n",
    "\n",
    "    if epoch % self.epochs_per_report != 0:\n",
    "      return\n",
    "\n",
    "    print(f'\\nRunning privacy report for epoch: {epoch}\\n')           \n",
    "    privacy_report_metadata = PrivacyReportMetadata(        \n",
    "        accuracy_train=logs['val_accuracy'], \n",
    "        accuracy_test=logs['val_accuracy'],\n",
    "        epoch_num=epoch,\n",
    "        model_variant_label=self.model_name)\n",
    "\n",
    "    attacks_result = mia.run_attacks(attack_input=attack_input,\n",
    "                                    slicing_spec=slicing_spec,\n",
    "                                    attack_types=attack_types,\n",
    "                                    privacy_report_metadata=privacy_report_metadata\n",
    "                                 )\n",
    "    self.attack_results.append(attacks_result)\n",
    "\n"
   ]
  },
  {
   "cell_type": "code",
   "execution_count": null,
   "metadata": {},
   "outputs": [],
   "source": [
    "all_reports = []\n",
    "epochs_per_report = 2\n",
    "callback = PrivacyMetrics(epochs_per_report, \"2 Layers\")\n",
    "history = model.fit(partial_x_train,\n",
    "                    partial_y_train,\n",
    "                    epochs=10,\n",
    "                    batch_size=512,\n",
    "                    validation_data=(x_val, y_val),\n",
    "                    verbose=1)\n",
    "all_reports.extend(callback.attack_results)"
   ]
  },
  {
   "cell_type": "code",
   "execution_count": null,
   "metadata": {},
   "outputs": [],
   "source": [
    "results = AttackResultsCollection(all_reports)"
   ]
  },
  {
   "cell_type": "code",
   "execution_count": null,
   "metadata": {},
   "outputs": [],
   "source": [
    "privacy_metrics = (PrivacyMetric.AUC, PrivacyMetric.ATTACKER_ADVANTAGE)\n",
    "epoch_plot = privacy_report.plot_by_epochs(\n",
    "    results, privacy_metrics=privacy_metrics)"
   ]
  },
  {
   "cell_type": "code",
   "execution_count": null,
   "metadata": {},
   "outputs": [],
   "source": [
    "privacy_metrics = (PrivacyMetric.AUC, PrivacyMetric.ATTACKER_ADVANTAGE)\n",
    "utility_privacy_plot = privacy_report.plot_privacy_vs_accuracy(\n",
    "    results, privacy_metrics=privacy_metrics)\n",
    "\n",
    "for axis in utility_privacy_plot.axes:\n",
    "  axis.set_xlabel('Validation accuracy')"
   ]
  }
 ],
 "metadata": {
  "kernelspec": {
   "display_name": "Python 3.10.5 64-bit",
   "language": "python",
   "name": "python3"
  },
  "language_info": {
   "codemirror_mode": {
    "name": "ipython",
    "version": 3
   },
   "file_extension": ".py",
   "mimetype": "text/x-python",
   "name": "python",
   "nbconvert_exporter": "python",
   "pygments_lexer": "ipython3",
   "version": "3.10.5"
  },
  "orig_nbformat": 4,
  "vscode": {
   "interpreter": {
    "hash": "9ece7244c853720b0614ff6ac8cc1d979ca6b43f4b3de7b032aeb8e22b099f8e"
   }
  }
 },
 "nbformat": 4,
 "nbformat_minor": 2
}
