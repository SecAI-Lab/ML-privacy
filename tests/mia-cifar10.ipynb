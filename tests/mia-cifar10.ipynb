{
  "cells": [
    {
      "cell_type": "code",
      "execution_count": 4,
      "metadata": {
        "id": "MDq0t_BaxkTo"
      },
      "outputs": [
        {
          "name": "stdout",
          "output_type": "stream",
          "text": [
            "Collecting tensorflow\n",
            "  Downloading tensorflow-2.10.0-cp39-cp39-win_amd64.whl (455.9 MB)\n",
            "     -------------------------------------- 455.9/455.9 MB 6.3 MB/s eta 0:00:00\n",
            "Collecting numpy\n",
            "  Downloading numpy-1.23.3-cp39-cp39-win_amd64.whl (14.7 MB)\n",
            "     --------------------------------------- 14.7/14.7 MB 72.6 MB/s eta 0:00:00\n",
            "Collecting tensorflow_privacy\n",
            "  Downloading tensorflow_privacy-0.8.5-py3-none-any.whl (287 kB)\n",
            "     ------------------------------------- 287.4/287.4 KB 17.3 MB/s eta 0:00:00\n",
            "Requirement already satisfied: setuptools in c:\\users\\user\\appdata\\local\\programs\\python\\python39\\lib\\site-packages (from tensorflow) (58.1.0)\n",
            "Collecting typing-extensions>=3.6.6\n",
            "  Using cached typing_extensions-4.3.0-py3-none-any.whl (25 kB)\n",
            "Collecting keras-preprocessing>=1.1.1\n",
            "  Using cached Keras_Preprocessing-1.1.2-py2.py3-none-any.whl (42 kB)\n",
            "Collecting tensorboard<2.11,>=2.10\n",
            "  Downloading tensorboard-2.10.0-py3-none-any.whl (5.9 MB)\n",
            "     ---------------------------------------- 5.9/5.9 MB 75.2 MB/s eta 0:00:00\n",
            "Collecting keras<2.11,>=2.10.0\n",
            "  Downloading keras-2.10.0-py2.py3-none-any.whl (1.7 MB)\n",
            "     ---------------------------------------- 1.7/1.7 MB 104.6 MB/s eta 0:00:00\n",
            "Collecting opt-einsum>=2.3.2\n",
            "  Using cached opt_einsum-3.3.0-py3-none-any.whl (65 kB)\n",
            "Collecting termcolor>=1.1.0\n",
            "  Downloading termcolor-2.0.1-py3-none-any.whl (5.4 kB)\n",
            "Collecting gast<=0.4.0,>=0.2.1\n",
            "  Using cached gast-0.4.0-py3-none-any.whl (9.8 kB)\n",
            "Requirement already satisfied: packaging in c:\\users\\user\\appdata\\roaming\\python\\python39\\site-packages (from tensorflow) (21.3)\n",
            "Collecting wrapt>=1.11.0\n",
            "  Using cached wrapt-1.14.1-cp39-cp39-win_amd64.whl (35 kB)\n",
            "Collecting libclang>=13.0.0\n",
            "  Using cached libclang-14.0.6-py2.py3-none-win_amd64.whl (14.2 MB)\n",
            "Collecting google-pasta>=0.1.1\n",
            "  Using cached google_pasta-0.2.0-py3-none-any.whl (57 kB)\n",
            "Collecting tensorflow-estimator<2.11,>=2.10.0\n",
            "  Downloading tensorflow_estimator-2.10.0-py2.py3-none-any.whl (438 kB)\n",
            "     ---------------------------------------- 438.7/438.7 KB ? eta 0:00:00\n",
            "Collecting astunparse>=1.6.0\n",
            "  Using cached astunparse-1.6.3-py2.py3-none-any.whl (12 kB)\n",
            "Collecting protobuf<3.20,>=3.9.2\n",
            "  Downloading protobuf-3.19.5-py2.py3-none-any.whl (162 kB)\n",
            "     -------------------------------------- 162.7/162.7 KB 9.5 MB/s eta 0:00:00\n",
            "Collecting tensorflow-io-gcs-filesystem>=0.23.1\n",
            "  Downloading tensorflow_io_gcs_filesystem-0.27.0-cp39-cp39-win_amd64.whl (1.5 MB)\n",
            "     ---------------------------------------- 1.5/1.5 MB 98.3 MB/s eta 0:00:00\n",
            "Collecting grpcio<2.0,>=1.24.3\n",
            "  Using cached grpcio-1.48.1-cp39-cp39-win_amd64.whl (3.6 MB)\n",
            "Collecting absl-py>=1.0.0\n",
            "  Using cached absl_py-1.2.0-py3-none-any.whl (123 kB)\n",
            "Collecting flatbuffers>=2.0\n",
            "  Downloading flatbuffers-2.0.7-py2.py3-none-any.whl (26 kB)\n",
            "Collecting h5py>=2.9.0\n",
            "  Using cached h5py-3.7.0-cp39-cp39-win_amd64.whl (2.6 MB)\n",
            "Requirement already satisfied: six>=1.12.0 in c:\\users\\user\\appdata\\roaming\\python\\python39\\site-packages (from tensorflow) (1.16.0)\n",
            "Collecting dp-accounting==0.3.0\n",
            "  Downloading dp_accounting-0.3.0-py3-none-any.whl (89 kB)\n",
            "     ---------------------------------------- 89.9/89.9 KB 5.0 MB/s eta 0:00:00\n",
            "Collecting dm-tree==0.1.7\n",
            "  Using cached dm_tree-0.1.7-cp39-cp39-win_amd64.whl (90 kB)\n",
            "Collecting pandas~=1.4\n",
            "  Downloading pandas-1.4.4-cp39-cp39-win_amd64.whl (10.6 MB)\n",
            "     --------------------------------------- 10.6/10.6 MB 81.9 MB/s eta 0:00:00\n",
            "Collecting scipy~=1.7\n",
            "  Downloading scipy-1.9.1-cp39-cp39-win_amd64.whl (38.6 MB)\n",
            "     --------------------------------------- 38.6/38.6 MB 19.9 MB/s eta 0:00:00\n",
            "Collecting tensorflow-datasets~=4.5\n",
            "  Downloading tensorflow_datasets-4.6.0-py3-none-any.whl (4.3 MB)\n",
            "     ---------------------------------------- 4.3/4.3 MB 91.4 MB/s eta 0:00:00\n",
            "Collecting matplotlib~=3.3\n",
            "  Downloading matplotlib-3.5.3-cp39-cp39-win_amd64.whl (7.2 MB)\n",
            "     ---------------------------------------- 7.2/7.2 MB 76.5 MB/s eta 0:00:00\n",
            "Collecting scikit-learn==1.*,>=1.0\n",
            "  Downloading scikit_learn-1.1.2-cp39-cp39-win_amd64.whl (7.4 MB)\n",
            "     ---------------------------------------- 7.4/7.4 MB 94.8 MB/s eta 0:00:00\n",
            "Collecting attrs~=21.4\n",
            "  Downloading attrs-21.4.0-py2.py3-none-any.whl (60 kB)\n",
            "     ---------------------------------------- 60.6/60.6 KB 3.1 MB/s eta 0:00:00\n",
            "Collecting tensorflow-probability~=0.15\n",
            "  Downloading tensorflow_probability-0.18.0-py2.py3-none-any.whl (6.6 MB)\n",
            "     ---------------------------------------- 6.6/6.6 MB 84.5 MB/s eta 0:00:00\n",
            "Collecting absl-py>=1.0.0\n",
            "  Using cached absl_py-1.0.0-py3-none-any.whl (126 kB)\n",
            "Collecting mpmath~=1.2.1\n",
            "  Downloading mpmath-1.2.1-py3-none-any.whl (532 kB)\n",
            "     ---------------------------------------- 532.6/532.6 KB ? eta 0:00:00\n",
            "Collecting scipy~=1.7\n",
            "  Downloading scipy-1.7.3-cp39-cp39-win_amd64.whl (34.3 MB)\n",
            "     --------------------------------------- 34.3/34.3 MB 50.1 MB/s eta 0:00:00\n",
            "Collecting threadpoolctl>=2.0.0\n",
            "  Using cached threadpoolctl-3.1.0-py3-none-any.whl (14 kB)\n",
            "Collecting joblib>=1.0.0\n",
            "  Using cached joblib-1.1.0-py2.py3-none-any.whl (306 kB)\n",
            "Collecting wheel<1.0,>=0.23.0\n",
            "  Using cached wheel-0.37.1-py2.py3-none-any.whl (35 kB)\n",
            "Collecting cycler>=0.10\n",
            "  Using cached cycler-0.11.0-py3-none-any.whl (6.4 kB)\n",
            "Collecting pillow>=6.2.0\n",
            "  Using cached Pillow-9.2.0-cp39-cp39-win_amd64.whl (3.3 MB)\n",
            "Collecting fonttools>=4.22.0\n",
            "  Downloading fonttools-4.37.1-py3-none-any.whl (957 kB)\n",
            "     ------------------------------------- 957.2/957.2 KB 59.2 MB/s eta 0:00:00\n",
            "Requirement already satisfied: pyparsing>=2.2.1 in c:\\users\\user\\appdata\\roaming\\python\\python39\\site-packages (from matplotlib~=3.3->tensorflow_privacy) (3.0.9)\n",
            "Requirement already satisfied: python-dateutil>=2.7 in c:\\users\\user\\appdata\\roaming\\python\\python39\\site-packages (from matplotlib~=3.3->tensorflow_privacy) (2.8.2)\n",
            "Collecting kiwisolver>=1.0.1\n",
            "  Using cached kiwisolver-1.4.4-cp39-cp39-win_amd64.whl (55 kB)\n",
            "Collecting pytz>=2020.1\n",
            "  Using cached pytz-2022.2.1-py2.py3-none-any.whl (500 kB)\n",
            "Collecting numpy\n",
            "  Downloading numpy-1.22.4-cp39-cp39-win_amd64.whl (14.7 MB)\n",
            "     --------------------------------------- 14.7/14.7 MB 72.6 MB/s eta 0:00:00\n",
            "Collecting werkzeug>=1.0.1\n",
            "  Using cached Werkzeug-2.2.2-py3-none-any.whl (232 kB)\n",
            "Collecting google-auth<3,>=1.6.3\n",
            "  Using cached google_auth-2.11.0-py2.py3-none-any.whl (167 kB)\n",
            "Collecting google-auth-oauthlib<0.5,>=0.4.1\n",
            "  Using cached google_auth_oauthlib-0.4.6-py2.py3-none-any.whl (18 kB)\n",
            "Collecting tensorboard-plugin-wit>=1.6.0\n",
            "  Using cached tensorboard_plugin_wit-1.8.1-py3-none-any.whl (781 kB)\n",
            "Collecting markdown>=2.6.8\n",
            "  Using cached Markdown-3.4.1-py3-none-any.whl (93 kB)\n",
            "Collecting tensorboard-data-server<0.7.0,>=0.6.0\n",
            "  Using cached tensorboard_data_server-0.6.1-py3-none-any.whl (2.4 kB)\n",
            "Collecting requests<3,>=2.21.0\n",
            "  Using cached requests-2.28.1-py3-none-any.whl (62 kB)\n",
            "Collecting promise\n",
            "  Using cached promise-2.3.tar.gz (19 kB)\n",
            "  Preparing metadata (setup.py): started\n",
            "  Preparing metadata (setup.py): finished with status 'done'\n",
            "Collecting tqdm\n",
            "  Using cached tqdm-4.64.1-py2.py3-none-any.whl (78 kB)\n",
            "Collecting dill\n",
            "  Using cached dill-0.3.5.1-py2.py3-none-any.whl (95 kB)\n",
            "Collecting etils[epath]\n",
            "  Downloading etils-0.8.0-py3-none-any.whl (127 kB)\n",
            "     ---------------------------------------- 127.2/127.2 KB ? eta 0:00:00\n",
            "Collecting toml\n",
            "  Downloading toml-0.10.2-py2.py3-none-any.whl (16 kB)\n",
            "Collecting tensorflow-metadata\n",
            "  Using cached tensorflow_metadata-1.10.0-py3-none-any.whl (50 kB)\n",
            "Collecting cloudpickle>=1.3\n",
            "  Using cached cloudpickle-2.2.0-py3-none-any.whl (25 kB)\n",
            "Requirement already satisfied: decorator in c:\\users\\user\\appdata\\roaming\\python\\python39\\site-packages (from tensorflow-probability~=0.15->tensorflow_privacy) (5.1.1)\n",
            "Collecting rsa<5,>=3.1.4\n",
            "  Using cached rsa-4.9-py3-none-any.whl (34 kB)\n",
            "Collecting pyasn1-modules>=0.2.1\n",
            "  Using cached pyasn1_modules-0.2.8-py2.py3-none-any.whl (155 kB)\n",
            "Collecting cachetools<6.0,>=2.0.0\n",
            "  Using cached cachetools-5.2.0-py3-none-any.whl (9.3 kB)\n",
            "Collecting requests-oauthlib>=0.7.0\n",
            "  Using cached requests_oauthlib-1.3.1-py2.py3-none-any.whl (23 kB)\n",
            "Collecting importlib-metadata>=4.4\n",
            "  Using cached importlib_metadata-4.12.0-py3-none-any.whl (21 kB)\n",
            "Collecting urllib3<1.27,>=1.21.1\n",
            "  Using cached urllib3-1.26.12-py2.py3-none-any.whl (140 kB)\n",
            "Collecting certifi>=2017.4.17\n",
            "  Downloading certifi-2022.6.15.2-py3-none-any.whl (160 kB)\n",
            "     ---------------------------------------- 160.4/160.4 KB ? eta 0:00:00\n",
            "Collecting charset-normalizer<3,>=2\n",
            "  Using cached charset_normalizer-2.1.1-py3-none-any.whl (39 kB)\n",
            "Collecting idna<4,>=2.5\n",
            "  Downloading idna-3.4-py3-none-any.whl (61 kB)\n",
            "     ---------------------------------------- 61.5/61.5 KB ? eta 0:00:00\n",
            "Collecting MarkupSafe>=2.1.1\n",
            "  Using cached MarkupSafe-2.1.1-cp39-cp39-win_amd64.whl (17 kB)\n",
            "Collecting importlib_resources\n",
            "  Downloading importlib_resources-5.9.0-py3-none-any.whl (33 kB)\n",
            "Collecting zipp\n",
            "  Using cached zipp-3.8.1-py3-none-any.whl (5.6 kB)\n",
            "Collecting googleapis-common-protos<2,>=1.52.0\n",
            "  Using cached googleapis_common_protos-1.56.4-py2.py3-none-any.whl (211 kB)\n",
            "Requirement already satisfied: colorama in c:\\users\\user\\appdata\\roaming\\python\\python39\\site-packages (from tqdm->tensorflow-datasets~=4.5->tensorflow_privacy) (0.4.5)\n",
            "Collecting pyasn1<0.5.0,>=0.4.6\n",
            "  Using cached pyasn1-0.4.8-py2.py3-none-any.whl (77 kB)\n",
            "Collecting oauthlib>=3.0.0\n",
            "  Downloading oauthlib-3.2.1-py3-none-any.whl (151 kB)\n",
            "     -------------------------------------- 151.7/151.7 KB 9.4 MB/s eta 0:00:00\n",
            "Using legacy 'setup.py install' for promise, since package 'wheel' is not installed.\n",
            "Installing collected packages: tensorboard-plugin-wit, pytz, pyasn1, mpmath, libclang, keras, flatbuffers, dm-tree, zipp, wrapt, wheel, urllib3, typing-extensions, tqdm, toml, threadpoolctl, termcolor, tensorflow-io-gcs-filesystem, tensorflow-estimator, tensorboard-data-server, rsa, pyasn1-modules, protobuf, promise, pillow, oauthlib, numpy, MarkupSafe, kiwisolver, joblib, idna, grpcio, google-pasta, gast, fonttools, etils, dill, cycler, cloudpickle, charset-normalizer, certifi, cachetools, attrs, absl-py, werkzeug, tensorflow-probability, scipy, requests, pandas, opt-einsum, matplotlib, keras-preprocessing, importlib_resources, importlib-metadata, h5py, googleapis-common-protos, google-auth, astunparse, tensorflow-metadata, scikit-learn, requests-oauthlib, markdown, dp-accounting, tensorflow-datasets, google-auth-oauthlib, tensorboard, tensorflow, tensorflow_privacy\n",
            "  Running setup.py install for promise: started\n",
            "  Running setup.py install for promise: finished with status 'done'\n",
            "Successfully installed MarkupSafe-2.1.1 absl-py-1.0.0 astunparse-1.6.3 attrs-21.4.0 cachetools-5.2.0 certifi-2022.6.15.2 charset-normalizer-2.1.1 cloudpickle-2.2.0 cycler-0.11.0 dill-0.3.5.1 dm-tree-0.1.7 dp-accounting-0.3.0 etils-0.8.0 flatbuffers-2.0.7 fonttools-4.37.1 gast-0.4.0 google-auth-2.11.0 google-auth-oauthlib-0.4.6 google-pasta-0.2.0 googleapis-common-protos-1.56.4 grpcio-1.48.1 h5py-3.7.0 idna-3.4 importlib-metadata-4.12.0 importlib_resources-5.9.0 joblib-1.1.0 keras-2.10.0 keras-preprocessing-1.1.2 kiwisolver-1.4.4 libclang-14.0.6 markdown-3.4.1 matplotlib-3.5.3 mpmath-1.2.1 numpy-1.22.4 oauthlib-3.2.1 opt-einsum-3.3.0 pandas-1.4.4 pillow-9.2.0 promise-2.3 protobuf-3.19.5 pyasn1-0.4.8 pyasn1-modules-0.2.8 pytz-2022.2.1 requests-2.28.1 requests-oauthlib-1.3.1 rsa-4.9 scikit-learn-1.1.2 scipy-1.7.3 tensorboard-2.10.0 tensorboard-data-server-0.6.1 tensorboard-plugin-wit-1.8.1 tensorflow-2.10.0 tensorflow-datasets-4.6.0 tensorflow-estimator-2.10.0 tensorflow-io-gcs-filesystem-0.27.0 tensorflow-metadata-1.10.0 tensorflow-probability-0.18.0 tensorflow_privacy-0.8.5 termcolor-2.0.1 threadpoolctl-3.1.0 toml-0.10.2 tqdm-4.64.1 typing-extensions-4.3.0 urllib3-1.26.12 werkzeug-2.2.2 wheel-0.37.1 wrapt-1.14.1 zipp-3.8.1\n"
          ]
        },
        {
          "name": "stderr",
          "output_type": "stream",
          "text": [
            "WARNING: You are using pip version 22.0.4; however, version 22.2.2 is available.\n",
            "You should consider upgrading via the 'C:\\Users\\User\\AppData\\Local\\Programs\\Python\\Python39\\python.exe -m pip install --upgrade pip' command.\n"
          ]
        }
      ],
      "source": [
        "# general imports\n",
        "! pip install tensorflow numpy tensorflow_privacy  \n",
        "import numpy as np\n",
        "import matplotlib.pyplot as plt\n",
        "import tensorflow as tf\n",
        "\n",
        "# tensorflow imports\n",
        "from tensorflow.keras.layers import Input, Conv2D, Dense, Flatten, MaxPooling2D\n",
        "from tensorflow.keras.models import Model\n",
        "from tensorflow.keras.utils import to_categorical"
      ]
    },
    {
      "cell_type": "code",
      "execution_count": 5,
      "metadata": {
        "id": "MgRT6LDCv_bb"
      },
      "outputs": [
        {
          "name": "stderr",
          "output_type": "stream",
          "text": [
            "c:\\Users\\User\\AppData\\Local\\Programs\\Python\\Python39\\lib\\site-packages\\tensorflow_privacy\\privacy\\membership_inference_attack\\__init__.py:18: UserWarning: \n",
            "Membership inference attack sources were moved. Please replace\n",
            "import tensorflow_privacy.privacy.membership_inference_attack\n",
            "\n",
            "with\n",
            "import tensorflow_privacy.privacy.privacy_tests.membership_inference_attack\n",
            "  warnings.warn(\n"
          ]
        }
      ],
      "source": [
        "# tensorflow-privacy \n",
        "import tensorflow_privacy.privacy.privacy_tests.membership_inference_attack.membership_inference_attack as mia\n",
        "from tensorflow_privacy.privacy.membership_inference_attack.data_structures import AttackInputData\n",
        "from tensorflow_privacy.privacy.membership_inference_attack.data_structures import SlicingSpec\n",
        "from tensorflow_privacy.privacy.membership_inference_attack.data_structures import AttackType\n",
        "from tensorflow.keras.layers import Dense, GlobalAveragePooling2D\n",
        "from tensorflow.keras.applications import DenseNet121"
      ]
    },
    {
      "cell_type": "markdown",
      "metadata": {
        "id": "EWjCSLMyuPTs"
      },
      "source": [
        "## Some helper methods"
      ]
    },
    {
      "cell_type": "code",
      "execution_count": 6,
      "metadata": {
        "id": "C5CokfVFyQzL"
      },
      "outputs": [],
      "source": [
        "def process_images(image, label):\n",
        "    image = tf.image.per_image_standardization(image)\n",
        "    image = tf.image.resize(image, (224, 224))\n",
        "    return image, label\n",
        "\n",
        "def load_cifar100():\n",
        "    (train_data, train_labels), (test_data,test_labels) = tf.keras.datasets.cifar10.load_data()                                \n",
        "    train_ds = tf.data.Dataset.from_tensor_slices((train_data, train_labels))\n",
        "    test_ds = tf.data.Dataset.from_tensor_slices((test_data, test_labels))\n",
        "\n",
        "    train_ds_size = tf.data.experimental.cardinality(train_ds).numpy()\n",
        "    test_ds_size = tf.data.experimental.cardinality(test_ds).numpy()\n",
        "    train_data = (train_ds\n",
        "                  .map(process_images)\n",
        "                  .shuffle(buffer_size=train_ds_size)\n",
        "                  .batch(batch_size=100, drop_remainder=False))\n",
        "    test_data = (test_ds\n",
        "                 .map(process_images)\n",
        "                 .shuffle(buffer_size=test_ds_size)\n",
        "                 .batch(batch_size=10, drop_remainder=False))\n",
        "\n",
        "    train_labels = train_labels.flatten()\n",
        "    test_labels = test_labels.flatten()\n",
        "\n",
        "    return train_data, train_labels, test_data, test_labels \n",
        "  \n",
        " \n",
        "def densenet(input_shape, num_classes):\n",
        "    base_model = DenseNet121(weights='imagenet', include_top=False)    \n",
        "    x = base_model.output\n",
        "    x = GlobalAveragePooling2D()(x)\n",
        "    x = Dense(1024, activation='relu')(x)\n",
        "    predictions = Dense(num_classes)(x) \n",
        "\n",
        "    model = Model(inputs=base_model.input, outputs=predictions)   \n",
        "   \n",
        "    for layer in base_model.layers:\n",
        "        layer.trainable = False\n",
        "\n",
        "    return model"
      ]
    },
    {
      "cell_type": "code",
      "execution_count": 11,
      "metadata": {
        "colab": {
          "base_uri": "https://localhost:8080/"
        },
        "id": "oSaW9ZgVyjwj",
        "outputId": "04063a86-b3e8-4e08-f85e-e9f23693e100"
      },
      "outputs": [
        {
          "name": "stdout",
          "output_type": "stream",
          "text": [
            "(50000,) (10000,)\n"
          ]
        },
        {
          "ename": "KeyboardInterrupt",
          "evalue": "",
          "output_type": "error",
          "traceback": [
            "\u001b[1;31m---------------------------------------------------------------------------\u001b[0m",
            "\u001b[1;31mKeyboardInterrupt\u001b[0m                         Traceback (most recent call last)",
            "Cell \u001b[1;32mIn [11], line 3\u001b[0m\n\u001b[0;32m      1\u001b[0m train_data, train_labels, test_data, test_labels \u001b[38;5;241m=\u001b[39m load_cifar100()\n\u001b[0;32m      2\u001b[0m \u001b[38;5;28mprint\u001b[39m(train_labels\u001b[38;5;241m.\u001b[39mshape, test_labels\u001b[38;5;241m.\u001b[39mshape)\n\u001b[1;32m----> 3\u001b[0m \u001b[38;5;28mprint\u001b[39m(\u001b[38;5;28;43mlist\u001b[39;49m\u001b[43m(\u001b[49m\u001b[43mtrain_data\u001b[49m\u001b[38;5;241;43m.\u001b[39;49m\u001b[43mas_numpy_iterator\u001b[49m\u001b[43m(\u001b[49m\u001b[43m)\u001b[49m\u001b[43m)\u001b[49m[\u001b[38;5;241m0\u001b[39m])\n",
            "File \u001b[1;32mc:\\Users\\User\\AppData\\Local\\Programs\\Python\\Python39\\lib\\site-packages\\tensorflow\\python\\data\\ops\\dataset_ops.py:4635\u001b[0m, in \u001b[0;36m_NumpyIterator.__next__\u001b[1;34m(self)\u001b[0m\n\u001b[0;32m   4632\u001b[0m     numpy\u001b[39m.\u001b[39msetflags(write\u001b[39m=\u001b[39m\u001b[39mFalse\u001b[39;00m)\n\u001b[0;32m   4633\u001b[0m   \u001b[39mreturn\u001b[39;00m numpy\n\u001b[1;32m-> 4635\u001b[0m \u001b[39mreturn\u001b[39;00m nest\u001b[39m.\u001b[39mmap_structure(to_numpy, \u001b[39mnext\u001b[39;49m(\u001b[39mself\u001b[39;49m\u001b[39m.\u001b[39;49m_iterator))\n",
            "File \u001b[1;32mc:\\Users\\User\\AppData\\Local\\Programs\\Python\\Python39\\lib\\site-packages\\tensorflow\\python\\data\\ops\\iterator_ops.py:766\u001b[0m, in \u001b[0;36mOwnedIterator.__next__\u001b[1;34m(self)\u001b[0m\n\u001b[0;32m    764\u001b[0m \u001b[39mdef\u001b[39;00m \u001b[39m__next__\u001b[39m(\u001b[39mself\u001b[39m):\n\u001b[0;32m    765\u001b[0m   \u001b[39mtry\u001b[39;00m:\n\u001b[1;32m--> 766\u001b[0m     \u001b[39mreturn\u001b[39;00m \u001b[39mself\u001b[39;49m\u001b[39m.\u001b[39;49m_next_internal()\n\u001b[0;32m    767\u001b[0m   \u001b[39mexcept\u001b[39;00m errors\u001b[39m.\u001b[39mOutOfRangeError:\n\u001b[0;32m    768\u001b[0m     \u001b[39mraise\u001b[39;00m \u001b[39mStopIteration\u001b[39;00m\n",
            "File \u001b[1;32mc:\\Users\\User\\AppData\\Local\\Programs\\Python\\Python39\\lib\\site-packages\\tensorflow\\python\\data\\ops\\iterator_ops.py:749\u001b[0m, in \u001b[0;36mOwnedIterator._next_internal\u001b[1;34m(self)\u001b[0m\n\u001b[0;32m    746\u001b[0m \u001b[39m# TODO(b/77291417): This runs in sync mode as iterators use an error status\u001b[39;00m\n\u001b[0;32m    747\u001b[0m \u001b[39m# to communicate that there is no more data to iterate over.\u001b[39;00m\n\u001b[0;32m    748\u001b[0m \u001b[39mwith\u001b[39;00m context\u001b[39m.\u001b[39mexecution_mode(context\u001b[39m.\u001b[39mSYNC):\n\u001b[1;32m--> 749\u001b[0m   ret \u001b[39m=\u001b[39m gen_dataset_ops\u001b[39m.\u001b[39;49miterator_get_next(\n\u001b[0;32m    750\u001b[0m       \u001b[39mself\u001b[39;49m\u001b[39m.\u001b[39;49m_iterator_resource,\n\u001b[0;32m    751\u001b[0m       output_types\u001b[39m=\u001b[39;49m\u001b[39mself\u001b[39;49m\u001b[39m.\u001b[39;49m_flat_output_types,\n\u001b[0;32m    752\u001b[0m       output_shapes\u001b[39m=\u001b[39;49m\u001b[39mself\u001b[39;49m\u001b[39m.\u001b[39;49m_flat_output_shapes)\n\u001b[0;32m    754\u001b[0m   \u001b[39mtry\u001b[39;00m:\n\u001b[0;32m    755\u001b[0m     \u001b[39m# Fast path for the case `self._structure` is not a nested structure.\u001b[39;00m\n\u001b[0;32m    756\u001b[0m     \u001b[39mreturn\u001b[39;00m \u001b[39mself\u001b[39m\u001b[39m.\u001b[39m_element_spec\u001b[39m.\u001b[39m_from_compatible_tensor_list(ret)  \u001b[39m# pylint: disable=protected-access\u001b[39;00m\n",
            "File \u001b[1;32mc:\\Users\\User\\AppData\\Local\\Programs\\Python\\Python39\\lib\\site-packages\\tensorflow\\python\\ops\\gen_dataset_ops.py:3011\u001b[0m, in \u001b[0;36miterator_get_next\u001b[1;34m(iterator, output_types, output_shapes, name)\u001b[0m\n\u001b[0;32m   3009\u001b[0m \u001b[39mif\u001b[39;00m tld\u001b[39m.\u001b[39mis_eager:\n\u001b[0;32m   3010\u001b[0m   \u001b[39mtry\u001b[39;00m:\n\u001b[1;32m-> 3011\u001b[0m     _result \u001b[39m=\u001b[39m pywrap_tfe\u001b[39m.\u001b[39;49mTFE_Py_FastPathExecute(\n\u001b[0;32m   3012\u001b[0m       _ctx, \u001b[39m\"\u001b[39;49m\u001b[39mIteratorGetNext\u001b[39;49m\u001b[39m\"\u001b[39;49m, name, iterator, \u001b[39m\"\u001b[39;49m\u001b[39moutput_types\u001b[39;49m\u001b[39m\"\u001b[39;49m, output_types,\n\u001b[0;32m   3013\u001b[0m       \u001b[39m\"\u001b[39;49m\u001b[39moutput_shapes\u001b[39;49m\u001b[39m\"\u001b[39;49m, output_shapes)\n\u001b[0;32m   3014\u001b[0m     \u001b[39mreturn\u001b[39;00m _result\n\u001b[0;32m   3015\u001b[0m   \u001b[39mexcept\u001b[39;00m _core\u001b[39m.\u001b[39m_NotOkStatusException \u001b[39mas\u001b[39;00m e:\n",
            "\u001b[1;31mKeyboardInterrupt\u001b[0m: "
          ]
        }
      ],
      "source": [
        "train_data, train_labels, test_data, test_labels = load_cifar100()\n",
        "img = list(train_data.as_numpy_iterator())\n",
        "print(train_labels.shape, test_labels.shape)\n",
        "print(len(img))"
      ]
    },
    {
      "cell_type": "code",
      "execution_count": 12,
      "metadata": {
        "colab": {
          "base_uri": "https://localhost:8080/",
          "height": 251
        },
        "id": "18XktG-92oe-",
        "outputId": "b42f84d2-be17-4ee0-98b3-b6dc018fc1aa"
      },
      "outputs": [
        {
          "ename": "KeyboardInterrupt",
          "evalue": "",
          "output_type": "error",
          "traceback": [
            "\u001b[1;31m---------------------------------------------------------------------------\u001b[0m",
            "\u001b[1;31mKeyboardInterrupt\u001b[0m                         Traceback (most recent call last)",
            "Cell \u001b[1;32mIn [12], line 8\u001b[0m\n\u001b[0;32m      6\u001b[0m     ax \u001b[38;5;241m=\u001b[39m axes[i\u001b[38;5;241m/\u001b[39m\u001b[38;5;241m/\u001b[39mnum_col, i\u001b[38;5;241m%\u001b[39mnum_col]\n\u001b[0;32m      7\u001b[0m     ax\u001b[38;5;241m.\u001b[39mset_axis_off()\n\u001b[1;32m----> 8\u001b[0m     ax\u001b[38;5;241m.\u001b[39mimshow(\u001b[38;5;28;43mlist\u001b[39;49m\u001b[43m(\u001b[49m\u001b[43mtrain_data\u001b[49m\u001b[38;5;241;43m.\u001b[39;49m\u001b[43mas_numpy_iterator\u001b[49m\u001b[43m(\u001b[49m\u001b[43m)\u001b[49m\u001b[43m)\u001b[49m[i])\n\u001b[0;32m     10\u001b[0m plt\u001b[38;5;241m.\u001b[39mtight_layout()\n\u001b[0;32m     11\u001b[0m plt\u001b[38;5;241m.\u001b[39mshow()\n",
            "File \u001b[1;32mc:\\Users\\User\\AppData\\Local\\Programs\\Python\\Python39\\lib\\site-packages\\tensorflow\\python\\data\\ops\\dataset_ops.py:4635\u001b[0m, in \u001b[0;36m_NumpyIterator.__next__\u001b[1;34m(self)\u001b[0m\n\u001b[0;32m   4632\u001b[0m     numpy\u001b[39m.\u001b[39msetflags(write\u001b[39m=\u001b[39m\u001b[39mFalse\u001b[39;00m)\n\u001b[0;32m   4633\u001b[0m   \u001b[39mreturn\u001b[39;00m numpy\n\u001b[1;32m-> 4635\u001b[0m \u001b[39mreturn\u001b[39;00m nest\u001b[39m.\u001b[39mmap_structure(to_numpy, \u001b[39mnext\u001b[39;49m(\u001b[39mself\u001b[39;49m\u001b[39m.\u001b[39;49m_iterator))\n",
            "File \u001b[1;32mc:\\Users\\User\\AppData\\Local\\Programs\\Python\\Python39\\lib\\site-packages\\tensorflow\\python\\data\\ops\\iterator_ops.py:766\u001b[0m, in \u001b[0;36mOwnedIterator.__next__\u001b[1;34m(self)\u001b[0m\n\u001b[0;32m    764\u001b[0m \u001b[39mdef\u001b[39;00m \u001b[39m__next__\u001b[39m(\u001b[39mself\u001b[39m):\n\u001b[0;32m    765\u001b[0m   \u001b[39mtry\u001b[39;00m:\n\u001b[1;32m--> 766\u001b[0m     \u001b[39mreturn\u001b[39;00m \u001b[39mself\u001b[39;49m\u001b[39m.\u001b[39;49m_next_internal()\n\u001b[0;32m    767\u001b[0m   \u001b[39mexcept\u001b[39;00m errors\u001b[39m.\u001b[39mOutOfRangeError:\n\u001b[0;32m    768\u001b[0m     \u001b[39mraise\u001b[39;00m \u001b[39mStopIteration\u001b[39;00m\n",
            "File \u001b[1;32mc:\\Users\\User\\AppData\\Local\\Programs\\Python\\Python39\\lib\\site-packages\\tensorflow\\python\\data\\ops\\iterator_ops.py:749\u001b[0m, in \u001b[0;36mOwnedIterator._next_internal\u001b[1;34m(self)\u001b[0m\n\u001b[0;32m    746\u001b[0m \u001b[39m# TODO(b/77291417): This runs in sync mode as iterators use an error status\u001b[39;00m\n\u001b[0;32m    747\u001b[0m \u001b[39m# to communicate that there is no more data to iterate over.\u001b[39;00m\n\u001b[0;32m    748\u001b[0m \u001b[39mwith\u001b[39;00m context\u001b[39m.\u001b[39mexecution_mode(context\u001b[39m.\u001b[39mSYNC):\n\u001b[1;32m--> 749\u001b[0m   ret \u001b[39m=\u001b[39m gen_dataset_ops\u001b[39m.\u001b[39;49miterator_get_next(\n\u001b[0;32m    750\u001b[0m       \u001b[39mself\u001b[39;49m\u001b[39m.\u001b[39;49m_iterator_resource,\n\u001b[0;32m    751\u001b[0m       output_types\u001b[39m=\u001b[39;49m\u001b[39mself\u001b[39;49m\u001b[39m.\u001b[39;49m_flat_output_types,\n\u001b[0;32m    752\u001b[0m       output_shapes\u001b[39m=\u001b[39;49m\u001b[39mself\u001b[39;49m\u001b[39m.\u001b[39;49m_flat_output_shapes)\n\u001b[0;32m    754\u001b[0m   \u001b[39mtry\u001b[39;00m:\n\u001b[0;32m    755\u001b[0m     \u001b[39m# Fast path for the case `self._structure` is not a nested structure.\u001b[39;00m\n\u001b[0;32m    756\u001b[0m     \u001b[39mreturn\u001b[39;00m \u001b[39mself\u001b[39m\u001b[39m.\u001b[39m_element_spec\u001b[39m.\u001b[39m_from_compatible_tensor_list(ret)  \u001b[39m# pylint: disable=protected-access\u001b[39;00m\n",
            "File \u001b[1;32mc:\\Users\\User\\AppData\\Local\\Programs\\Python\\Python39\\lib\\site-packages\\tensorflow\\python\\ops\\gen_dataset_ops.py:3011\u001b[0m, in \u001b[0;36miterator_get_next\u001b[1;34m(iterator, output_types, output_shapes, name)\u001b[0m\n\u001b[0;32m   3009\u001b[0m \u001b[39mif\u001b[39;00m tld\u001b[39m.\u001b[39mis_eager:\n\u001b[0;32m   3010\u001b[0m   \u001b[39mtry\u001b[39;00m:\n\u001b[1;32m-> 3011\u001b[0m     _result \u001b[39m=\u001b[39m pywrap_tfe\u001b[39m.\u001b[39;49mTFE_Py_FastPathExecute(\n\u001b[0;32m   3012\u001b[0m       _ctx, \u001b[39m\"\u001b[39;49m\u001b[39mIteratorGetNext\u001b[39;49m\u001b[39m\"\u001b[39;49m, name, iterator, \u001b[39m\"\u001b[39;49m\u001b[39moutput_types\u001b[39;49m\u001b[39m\"\u001b[39;49m, output_types,\n\u001b[0;32m   3013\u001b[0m       \u001b[39m\"\u001b[39;49m\u001b[39moutput_shapes\u001b[39;49m\u001b[39m\"\u001b[39;49m, output_shapes)\n\u001b[0;32m   3014\u001b[0m     \u001b[39mreturn\u001b[39;00m _result\n\u001b[0;32m   3015\u001b[0m   \u001b[39mexcept\u001b[39;00m _core\u001b[39m.\u001b[39m_NotOkStatusException \u001b[39mas\u001b[39;00m e:\n",
            "\u001b[1;31mKeyboardInterrupt\u001b[0m: "
          ]
        },
        {
          "data": {
            "image/png": "[encoded data removed]",
            "text/plain": [
              "<Figure size 750x400 with 10 Axes>"
            ]
          },
          "metadata": {},
          "output_type": "display_data"
        }
      ],
      "source": [
        "# show some train data\n",
        "num_row = 2\n",
        "num_col = 5\n",
        "fig, axes = plt.subplots(num_row, num_col, figsize=(1.5*num_col,2*num_row))\n",
        "for i in range(10):\n",
        "    ax = axes[i//num_col, i%num_col]\n",
        "    ax.set_axis_off()\n",
        "    ax.imshow(list(train_data.as_numpy_iterator())[i])\n",
        "\n",
        "plt.tight_layout()\n",
        "plt.show()"
      ]
    },
    {
      "cell_type": "code",
      "execution_count": 10,
      "metadata": {
        "colab": {
          "base_uri": "https://localhost:8080/"
        },
        "id": "s_W2k3ARysJD",
        "outputId": "1519d11b-d647-43e5-e3bf-749d2951db80"
      },
      "outputs": [
        {
          "name": "stdout",
          "output_type": "stream",
          "text": [
            "Model: \"model\"\n",
            "_________________________________________________________________\n",
            " Layer (type)                Output Shape              Param #   \n",
            "=================================================================\n",
            " input_1 (InputLayer)        [(None, 32, 32, 3)]       0         \n",
            "                                                                 \n",
            " conv2d (Conv2D)             (None, 30, 30, 32)        896       \n",
            "                                                                 \n",
            " max_pooling2d (MaxPooling2D  (None, 15, 15, 32)       0         \n",
            " )                                                               \n",
            "                                                                 \n",
            " conv2d_1 (Conv2D)           (None, 13, 13, 64)        18496     \n",
            "                                                                 \n",
            " max_pooling2d_1 (MaxPooling  (None, 6, 6, 64)         0         \n",
            " 2D)                                                             \n",
            "                                                                 \n",
            " conv2d_2 (Conv2D)           (None, 4, 4, 64)          36928     \n",
            "                                                                 \n",
            " max_pooling2d_2 (MaxPooling  (None, 2, 2, 64)         0         \n",
            " 2D)                                                             \n",
            "                                                                 \n",
            " flatten (Flatten)           (None, 256)               0         \n",
            "                                                                 \n",
            " dense (Dense)               (None, 128)               32896     \n",
            "                                                                 \n",
            " dense_1 (Dense)             (None, 10)                1290      \n",
            "                                                                 \n",
            "=================================================================\n",
            "Total params: 90,506\n",
            "Trainable params: 90,506\n",
            "Non-trainable params: 0\n",
            "_________________________________________________________________\n"
          ]
        }
      ],
      "source": [
        "# make the neural network model with the function specified above.\n",
        "# one model is supposed to train for 10, one for 50 epochs\n",
        "model = make_simple_model()\n",
        "model.summary()"
      ]
    },
    {
      "cell_type": "code",
      "execution_count": 11,
      "metadata": {
        "id": "8TBgM6JnyvIZ"
      },
      "outputs": [],
      "source": [
        "# specify parameters\n",
        "optimizer = tf.keras.optimizers.Adam()\n",
        "loss = tf.keras.losses.SparseCategoricalCrossentropy(from_logits=True)\n",
        "\n",
        "# compile the model\n",
        "model.compile(optimizer=optimizer, loss=loss, metrics=['accuracy'])"
      ]
    },
    {
      "cell_type": "markdown",
      "metadata": {
        "id": "l3KE3jTS1uQ0"
      },
      "source": [
        "## Model Training\n",
        "Train the model for 30 epochs. \n",
        "\n",
        "The idea is that we can use the TensorFlow Privacy Library on the trained models in order to quantify the membership inference risk respectively. \n"
      ]
    },
    {
      "cell_type": "code",
      "execution_count": 12,
      "metadata": {
        "colab": {
          "base_uri": "https://localhost:8080/"
        },
        "id": "peuB219bz5Rx",
        "outputId": "d49ea95d-6735-4561-e79d-42592f0a5865"
      },
      "outputs": [
        {
          "name": "stdout",
          "output_type": "stream",
          "text": [
            "Epoch 1/30\n",
            "391/391 [==============================] - 14s 13ms/step - loss: 1.6588 - accuracy: 0.3896 - val_loss: 1.4134 - val_accuracy: 0.4852\n",
            "Epoch 2/30\n",
            "391/391 [==============================] - 5s 12ms/step - loss: 1.3149 - accuracy: 0.5270 - val_loss: 1.2858 - val_accuracy: 0.5464\n",
            "Epoch 3/30\n",
            "391/391 [==============================] - 5s 12ms/step - loss: 1.1779 - accuracy: 0.5825 - val_loss: 1.1221 - val_accuracy: 0.6070\n",
            "Epoch 4/30\n",
            "391/391 [==============================] - 5s 12ms/step - loss: 1.0721 - accuracy: 0.6202 - val_loss: 1.0901 - val_accuracy: 0.6144\n",
            "Epoch 5/30\n",
            "391/391 [==============================] - 5s 13ms/step - loss: 0.9879 - accuracy: 0.6532 - val_loss: 1.0055 - val_accuracy: 0.6517\n",
            "Epoch 6/30\n",
            "391/391 [==============================] - 5s 12ms/step - loss: 0.9291 - accuracy: 0.6736 - val_loss: 0.9920 - val_accuracy: 0.6530\n",
            "Epoch 7/30\n",
            "391/391 [==============================] - 4s 11ms/step - loss: 0.8697 - accuracy: 0.6956 - val_loss: 0.9960 - val_accuracy: 0.6486\n",
            "Epoch 8/30\n",
            "391/391 [==============================] - 5s 12ms/step - loss: 0.8286 - accuracy: 0.7108 - val_loss: 0.9087 - val_accuracy: 0.6886\n",
            "Epoch 9/30\n",
            "391/391 [==============================] - 5s 14ms/step - loss: 0.7905 - accuracy: 0.7241 - val_loss: 0.9384 - val_accuracy: 0.6811\n",
            "Epoch 10/30\n",
            "391/391 [==============================] - 5s 12ms/step - loss: 0.7538 - accuracy: 0.7380 - val_loss: 0.9369 - val_accuracy: 0.6772\n",
            "Epoch 11/30\n",
            "391/391 [==============================] - 4s 11ms/step - loss: 0.7143 - accuracy: 0.7503 - val_loss: 0.8857 - val_accuracy: 0.7035\n",
            "Epoch 12/30\n",
            "391/391 [==============================] - 5s 12ms/step - loss: 0.6941 - accuracy: 0.7572 - val_loss: 0.9038 - val_accuracy: 0.6993\n",
            "Epoch 13/30\n",
            "391/391 [==============================] - 5s 12ms/step - loss: 0.6645 - accuracy: 0.7674 - val_loss: 0.8553 - val_accuracy: 0.7074\n",
            "Epoch 14/30\n",
            "391/391 [==============================] - 5s 12ms/step - loss: 0.6321 - accuracy: 0.7786 - val_loss: 0.8904 - val_accuracy: 0.7013\n",
            "Epoch 15/30\n",
            "391/391 [==============================] - 4s 11ms/step - loss: 0.6161 - accuracy: 0.7837 - val_loss: 0.8602 - val_accuracy: 0.7149\n",
            "Epoch 16/30\n",
            "391/391 [==============================] - 5s 12ms/step - loss: 0.5838 - accuracy: 0.7947 - val_loss: 0.8699 - val_accuracy: 0.7134\n",
            "Epoch 17/30\n",
            "391/391 [==============================] - 4s 11ms/step - loss: 0.5622 - accuracy: 0.8036 - val_loss: 0.8764 - val_accuracy: 0.7129\n",
            "Epoch 18/30\n",
            "391/391 [==============================] - 5s 12ms/step - loss: 0.5481 - accuracy: 0.8077 - val_loss: 0.8930 - val_accuracy: 0.7102\n",
            "Epoch 19/30\n",
            "391/391 [==============================] - 5s 12ms/step - loss: 0.5213 - accuracy: 0.8149 - val_loss: 0.8597 - val_accuracy: 0.7243\n",
            "Epoch 20/30\n",
            "391/391 [==============================] - 5s 12ms/step - loss: 0.4976 - accuracy: 0.8235 - val_loss: 0.8942 - val_accuracy: 0.7158\n",
            "Epoch 21/30\n",
            "391/391 [==============================] - 5s 12ms/step - loss: 0.4786 - accuracy: 0.8322 - val_loss: 0.8767 - val_accuracy: 0.7222\n",
            "Epoch 22/30\n",
            "391/391 [==============================] - 4s 11ms/step - loss: 0.4630 - accuracy: 0.8375 - val_loss: 0.9022 - val_accuracy: 0.7142\n",
            "Epoch 23/30\n",
            "391/391 [==============================] - 5s 12ms/step - loss: 0.4414 - accuracy: 0.8447 - val_loss: 0.9353 - val_accuracy: 0.7157\n",
            "Epoch 24/30\n",
            "391/391 [==============================] - 4s 11ms/step - loss: 0.4258 - accuracy: 0.8494 - val_loss: 0.9749 - val_accuracy: 0.7113\n",
            "Epoch 25/30\n",
            "391/391 [==============================] - 5s 12ms/step - loss: 0.4072 - accuracy: 0.8577 - val_loss: 0.9309 - val_accuracy: 0.7228\n",
            "Epoch 26/30\n",
            "391/391 [==============================] - 5s 12ms/step - loss: 0.3949 - accuracy: 0.8615 - val_loss: 0.9549 - val_accuracy: 0.7171\n",
            "Epoch 27/30\n",
            "391/391 [==============================] - 4s 11ms/step - loss: 0.3769 - accuracy: 0.8658 - val_loss: 0.9996 - val_accuracy: 0.7129\n",
            "Epoch 28/30\n",
            "391/391 [==============================] - 4s 11ms/step - loss: 0.3597 - accuracy: 0.8718 - val_loss: 1.0069 - val_accuracy: 0.7119\n",
            "Epoch 29/30\n",
            "391/391 [==============================] - 7s 17ms/step - loss: 0.3484 - accuracy: 0.8770 - val_loss: 1.0145 - val_accuracy: 0.7136\n",
            "Epoch 30/30\n",
            "391/391 [==============================] - 8s 19ms/step - loss: 0.3307 - accuracy: 0.8823 - val_loss: 1.0725 - val_accuracy: 0.7122\n"
          ]
        }
      ],
      "source": [
        "# train the model\n",
        "history = model.fit(train_data, train_labels,\n",
        "                       validation_data=(test_data, test_labels),\n",
        "                       batch_size=128, \n",
        "                       epochs=30)"
      ]
    },
    {
      "cell_type": "code",
      "execution_count": 13,
      "metadata": {
        "colab": {
          "base_uri": "https://localhost:8080/",
          "height": 287
        },
        "id": "8K1L5TXNaywC",
        "outputId": "5cb45d3e-a14c-43cd-bd12-79ddf6ad0251"
      },
      "outputs": [
        {
          "data": {
            "text/plain": [
              "(0.0, 1.0)"
            ]
          },
          "execution_count": 13,
          "metadata": {},
          "output_type": "execute_result"
        },
        {
          "data": {
            "image/png": "[encoded data removed]",
            "text/plain": [
              "<Figure size 432x288 with 1 Axes>"
            ]
          },
          "metadata": {
            "needs_background": "light"
          },
          "output_type": "display_data"
        }
      ],
      "source": [
        "# plot accuracy for the first model\n",
        "plt.plot(history.history['accuracy'], label='acc')\n",
        "plt.plot(history.history['val_accuracy'], label='val_acc')\n",
        "plt.legend();\n",
        "plt.ylim(0,1)"
      ]
    },
    {
      "cell_type": "markdown",
      "metadata": {
        "id": "mSlPtC6sdFB7"
      },
      "source": [
        "### Attack on the model"
      ]
    },
    {
      "cell_type": "code",
      "execution_count": 26,
      "metadata": {
        "colab": {
          "base_uri": "https://localhost:8080/"
        },
        "id": "85Gp2BEa2H6d",
        "outputId": "2aa04464-6c8f-4616-f4e7-c631cd5c8ceb"
      },
      "outputs": [
        {
          "name": "stdout",
          "output_type": "stream",
          "text": [
            "Predict on train...\n",
            "Predict on test...\n"
          ]
        }
      ],
      "source": [
        "# since we have not specified an activation function on the last layer\n",
        "# calling the predict function returns the logits\n",
        "print('Predict on train...')\n",
        "logits_train = model.predict(train_data)\n",
        "print('Predict on test...')\n",
        "logits_test = model.predict(test_data)\n",
        "\n",
        "print('Apply softmax to get probabilities from logits...')\n",
        "prob_train = tf.nn.softmax(logits_train, axis=-1)\n",
        "prob_test = tf.nn.softmax(logits_test)\n",
        "\n",
        "print('Compute losses...')\n",
        "cce = tf.keras.backend.categorical_crossentropy\n",
        "constant = tf.keras.backend.constant\n",
        "\n",
        "y_train_onehot = to_categorical(train_labels)\n",
        "y_test_onehot = to_categorical(test_labels)\n",
        "\n",
        "loss_train = cce(constant(y_train_onehot), constant(prob_train), from_logits=False).numpy()\n",
        "loss_test = cce(constant(y_test_onehot), constant(prob_test), from_logits=False).numpy()"
      ]
    },
    {
      "cell_type": "code",
      "execution_count": 33,
      "metadata": {
        "id": "UBELqg332H9G"
      },
      "outputs": [],
      "source": [
        "# define what variables our attacker should have access to\n",
        "attack_input = AttackInputData(\n",
        "  logits_train = logits_train,\n",
        "  logits_test = logits_test,\n",
        "  loss_train = loss_train,\n",
        "  loss_test = loss_test,\n",
        "  labels_train = train_labels,\n",
        "  labels_test = test_labels\n",
        ")"
      ]
    },
    {
      "cell_type": "code",
      "execution_count": 34,
      "metadata": {
        "id": "9V2kEojxaM6p"
      },
      "outputs": [],
      "source": [
        "# how should the data be sliced\n",
        "slicing_spec = SlicingSpec(\n",
        "    entire_dataset = True,\n",
        "    by_class = True,\n",
        "    by_percentiles = False,\n",
        "    by_classification_correctness = True)"
      ]
    },
    {
      "cell_type": "code",
      "execution_count": 35,
      "metadata": {
        "id": "3ZQ9yjutaOxI"
      },
      "outputs": [],
      "source": [
        "# define the type of attacker model that we want to use\n",
        "attack_types = [\n",
        "    AttackType.THRESHOLD_ATTACK,\n",
        "    AttackType.LOGISTIC_REGRESSION\n",
        "]"
      ]
    },
    {
      "cell_type": "code",
      "execution_count": 38,
      "metadata": {
        "id": "7sHGoinv2H_p"
      },
      "outputs": [],
      "source": [
        "# run the attack\n",
        "attacks_result = mia.run_attacks(attack_input=attack_input,\n",
        "                                 slicing_spec=slicing_spec,\n",
        "                                 attack_types=attack_types)"
      ]
    },
    {
      "cell_type": "code",
      "execution_count": 39,
      "metadata": {
        "colab": {
          "base_uri": "https://localhost:8080/"
        },
        "id": "HTiuk8jCdltB",
        "outputId": "67b45c37-cc01-4510-c7a4-d0fbf6385b22"
      },
      "outputs": [
        {
          "name": "stdout",
          "output_type": "stream",
          "text": [
            "Best-performing attacks over all slices\n",
            "  LOGISTIC_REGRESSION (with 2878 training and 2878 test examples) achieved an AUC of 0.71 on slice CORRECTLY_CLASSIFIED=False\n",
            "  LOGISTIC_REGRESSION (with 2878 training and 2878 test examples) achieved an advantage of 0.35 on slice CORRECTLY_CLASSIFIED=False\n",
            "\n",
            "Best-performing attacks over slice: \"Entire dataset\"\n",
            "  LOGISTIC_REGRESSION (with 10000 training and 10000 test examples) achieved an AUC of 0.61\n",
            "  LOGISTIC_REGRESSION (with 10000 training and 10000 test examples) achieved an advantage of 0.18\n",
            "\n",
            "Best-performing attacks over slice: \"CLASS=0\"\n",
            "  LOGISTIC_REGRESSION (with 1000 training and 1000 test examples) achieved an AUC of 0.60\n",
            "  LOGISTIC_REGRESSION (with 1000 training and 1000 test examples) achieved an advantage of 0.18\n",
            "\n",
            "Best-performing attacks over slice: \"CLASS=1\"\n",
            "  LOGISTIC_REGRESSION (with 1000 training and 1000 test examples) achieved an AUC of 0.60\n",
            "  THRESHOLD_ATTACK (with 5000 training and 1000 test examples) achieved an advantage of 0.16\n",
            "\n",
            "Best-performing attacks over slice: \"CLASS=2\"\n",
            "  LOGISTIC_REGRESSION (with 1000 training and 1000 test examples) achieved an AUC of 0.65\n",
            "  LOGISTIC_REGRESSION (with 1000 training and 1000 test examples) achieved an advantage of 0.26\n",
            "\n",
            "Best-performing attacks over slice: \"CLASS=3\"\n",
            "  LOGISTIC_REGRESSION (with 1000 training and 1000 test examples) achieved an AUC of 0.68\n",
            "  THRESHOLD_ATTACK (with 5000 training and 1000 test examples) achieved an advantage of 0.26\n",
            "\n",
            "Best-performing attacks over slice: \"CLASS=4\"\n",
            "  THRESHOLD_ATTACK (with 5000 training and 1000 test examples) achieved an AUC of 0.62\n",
            "  LOGISTIC_REGRESSION (with 1000 training and 1000 test examples) achieved an advantage of 0.23\n",
            "\n",
            "Best-performing attacks over slice: \"CLASS=5\"\n",
            "  LOGISTIC_REGRESSION (with 1000 training and 1000 test examples) achieved an AUC of 0.61\n",
            "  LOGISTIC_REGRESSION (with 1000 training and 1000 test examples) achieved an advantage of 0.22\n",
            "\n",
            "Best-performing attacks over slice: \"CLASS=6\"\n",
            "  LOGISTIC_REGRESSION (with 1000 training and 1000 test examples) achieved an AUC of 0.60\n",
            "  LOGISTIC_REGRESSION (with 1000 training and 1000 test examples) achieved an advantage of 0.19\n",
            "\n",
            "Best-performing attacks over slice: \"CLASS=7\"\n",
            "  LOGISTIC_REGRESSION (with 1000 training and 1000 test examples) achieved an AUC of 0.61\n",
            "  LOGISTIC_REGRESSION (with 1000 training and 1000 test examples) achieved an advantage of 0.21\n",
            "\n",
            "Best-performing attacks over slice: \"CLASS=8\"\n",
            "  LOGISTIC_REGRESSION (with 1000 training and 1000 test examples) achieved an AUC of 0.57\n",
            "  LOGISTIC_REGRESSION (with 1000 training and 1000 test examples) achieved an advantage of 0.15\n",
            "\n",
            "Best-performing attacks over slice: \"CLASS=9\"\n",
            "  LOGISTIC_REGRESSION (with 1000 training and 1000 test examples) achieved an AUC of 0.61\n",
            "  LOGISTIC_REGRESSION (with 1000 training and 1000 test examples) achieved an advantage of 0.19\n",
            "\n",
            "Best-performing attacks over slice: \"CORRECTLY_CLASSIFIED=True\"\n",
            "  LOGISTIC_REGRESSION (with 7122 training and 7122 test examples) achieved an AUC of 0.51\n",
            "  THRESHOLD_ATTACK (with 44465 training and 7122 test examples) achieved an advantage of 0.05\n",
            "\n",
            "Best-performing attacks over slice: \"CORRECTLY_CLASSIFIED=False\"\n",
            "  LOGISTIC_REGRESSION (with 2878 training and 2878 test examples) achieved an AUC of 0.71\n",
            "  LOGISTIC_REGRESSION (with 2878 training and 2878 test examples) achieved an advantage of 0.35\n"
          ]
        }
      ],
      "source": [
        "# summary by data slice (the best performing attacks per slice are presented)\n",
        "print(attacks_result.summary(by_slices=True))"
      ]
    },
    {
      "cell_type": "code",
      "execution_count": 41,
      "metadata": {
        "colab": {
          "base_uri": "https://localhost:8080/",
          "height": 297
        },
        "id": "NbUtwr_fdl26",
        "outputId": "f4b6a25f-39eb-4508-acb9-a63290c1df63"
      },
      "outputs": [
        {
          "name": "stdout",
          "output_type": "stream",
          "text": [
            "Figure(432x288)\n"
          ]
        },
        {
          "data": {
            "image/png": "[encoded data removed]",
            "text/plain": [
              "<Figure size 432x288 with 1 Axes>"
            ]
          },
          "metadata": {
            "needs_background": "light"
          },
          "output_type": "display_data"
        }
      ],
      "source": [
        "# plot the curve, we see that the attacker is much better than random guessing\n",
        "import tensorflow_privacy.privacy.membership_inference_attack.plotting as plotting\n",
        "print(plotting.plot_roc_curve(attacks_result.get_result_with_max_auc().roc_curve))"
      ]
    }
  ],
  "metadata": {
    "accelerator": "GPU",
    "colab": {
      "collapsed_sections": [],
      "name": "tensorflow_privacy_membership_inference_attacks",
      "provenance": [],
      "toc_visible": true
    },
    "kernelspec": {
      "display_name": "Python 3.8.10 64-bit",
      "language": "python",
      "name": "python3"
    },
    "language_info": {
      "codemirror_mode": {
        "name": "ipython",
        "version": 3
      },
      "file_extension": ".py",
      "mimetype": "text/x-python",
      "name": "python",
      "nbconvert_exporter": "python",
      "pygments_lexer": "ipython3",
      "version": "3.8.10"
    },
    "vscode": {
      "interpreter": {
        "hash": "e7370f93d1d0cde622a1f8e1c04877d8463912d04d973331ad4851f04de6915a"
      }
    }
  },
  "nbformat": 4,
  "nbformat_minor": 0
}
